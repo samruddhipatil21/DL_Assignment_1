{
 "cells": [
  {
   "cell_type": "code",
   "execution_count": 2,
   "id": "b4032890",
   "metadata": {},
   "outputs": [
    {
     "name": "stdout",
     "output_type": "stream",
     "text": [
      "Requirement already satisfied: wandb in c:\\users\\samruddhi\\anaconda3\\lib\\site-packages (0.16.4)\n",
      "Requirement already satisfied: Click!=8.0.0,>=7.1 in c:\\users\\samruddhi\\anaconda3\\lib\\site-packages (from wandb) (8.0.4)\n",
      "Requirement already satisfied: GitPython!=3.1.29,>=1.0.0 in c:\\users\\samruddhi\\anaconda3\\lib\\site-packages (from wandb) (3.1.42)\n",
      "Requirement already satisfied: requests<3,>=2.0.0 in c:\\users\\samruddhi\\anaconda3\\lib\\site-packages (from wandb) (2.31.0)\n",
      "Requirement already satisfied: psutil>=5.0.0 in c:\\users\\samruddhi\\anaconda3\\lib\\site-packages (from wandb) (5.9.0)\n",
      "Requirement already satisfied: sentry-sdk>=1.0.0 in c:\\users\\samruddhi\\anaconda3\\lib\\site-packages (from wandb) (1.41.0)\n",
      "Requirement already satisfied: docker-pycreds>=0.4.0 in c:\\users\\samruddhi\\anaconda3\\lib\\site-packages (from wandb) (0.4.0)\n",
      "Requirement already satisfied: PyYAML in c:\\users\\samruddhi\\anaconda3\\lib\\site-packages (from wandb) (6.0)\n",
      "Requirement already satisfied: setproctitle in c:\\users\\samruddhi\\anaconda3\\lib\\site-packages (from wandb) (1.3.3)\n",
      "Requirement already satisfied: setuptools in c:\\users\\samruddhi\\anaconda3\\lib\\site-packages (from wandb) (68.0.0)\n",
      "Requirement already satisfied: appdirs>=1.4.3 in c:\\users\\samruddhi\\anaconda3\\lib\\site-packages (from wandb) (1.4.4)\n",
      "Requirement already satisfied: protobuf!=4.21.0,<5,>=3.19.0 in c:\\users\\samruddhi\\anaconda3\\lib\\site-packages (from wandb) (4.25.3)\n",
      "Requirement already satisfied: colorama in c:\\users\\samruddhi\\anaconda3\\lib\\site-packages (from Click!=8.0.0,>=7.1->wandb) (0.4.6)\n",
      "Requirement already satisfied: six>=1.4.0 in c:\\users\\samruddhi\\anaconda3\\lib\\site-packages (from docker-pycreds>=0.4.0->wandb) (1.16.0)\n",
      "Requirement already satisfied: gitdb<5,>=4.0.1 in c:\\users\\samruddhi\\anaconda3\\lib\\site-packages (from GitPython!=3.1.29,>=1.0.0->wandb) (4.0.11)\n",
      "Requirement already satisfied: charset-normalizer<4,>=2 in c:\\users\\samruddhi\\anaconda3\\lib\\site-packages (from requests<3,>=2.0.0->wandb) (2.0.4)\n",
      "Requirement already satisfied: idna<4,>=2.5 in c:\\users\\samruddhi\\anaconda3\\lib\\site-packages (from requests<3,>=2.0.0->wandb) (3.4)\n",
      "Requirement already satisfied: urllib3<3,>=1.21.1 in c:\\users\\samruddhi\\anaconda3\\lib\\site-packages (from requests<3,>=2.0.0->wandb) (1.26.16)\n",
      "Requirement already satisfied: certifi>=2017.4.17 in c:\\users\\samruddhi\\anaconda3\\lib\\site-packages (from requests<3,>=2.0.0->wandb) (2023.11.17)\n",
      "Requirement already satisfied: smmap<6,>=3.0.1 in c:\\users\\samruddhi\\anaconda3\\lib\\site-packages (from gitdb<5,>=4.0.1->GitPython!=3.1.29,>=1.0.0->wandb) (5.0.1)\n"
     ]
    }
   ],
   "source": [
    "!pip install wandb \n",
    "\n",
    "import wandb"
   ]
  },
  {
   "cell_type": "code",
   "execution_count": 3,
   "id": "24574be6",
   "metadata": {},
   "outputs": [
    {
     "name": "stderr",
     "output_type": "stream",
     "text": [
      "\u001b[34m\u001b[1mwandb\u001b[0m: Currently logged in as: \u001b[33msamruddhipatil2526\u001b[0m. Use \u001b[1m`wandb login --relogin`\u001b[0m to force relogin\n",
      "\u001b[34m\u001b[1mwandb\u001b[0m: \u001b[33mWARNING\u001b[0m If you're specifying your api key in code, ensure this code is not shared publicly.\n",
      "\u001b[34m\u001b[1mwandb\u001b[0m: \u001b[33mWARNING\u001b[0m Consider setting the WANDB_API_KEY environment variable, or running `wandb login` from the command line.\n",
      "\u001b[34m\u001b[1mwandb\u001b[0m: Appending key for api.wandb.ai to your netrc file: C:\\Users\\samruddhi\\.netrc\n"
     ]
    },
    {
     "data": {
      "text/plain": [
       "True"
      ]
     },
     "execution_count": 3,
     "metadata": {},
     "output_type": "execute_result"
    }
   ],
   "source": [
    "wandb.login(key='ed57c3903aa24b40dc30a68b77aad62d1489535b')"
   ]
  },
  {
   "cell_type": "code",
   "execution_count": 4,
   "id": "c1d97ae1",
   "metadata": {},
   "outputs": [
    {
     "name": "stdout",
     "output_type": "stream",
     "text": [
      "Create sweep with ID: 53pj0pnn\n",
      "Sweep URL: https://wandb.ai/samruddhipatil2526/DL_01%29/sweeps/53pj0pnn\n"
     ]
    }
   ],
   "source": [
    "sweep_config = {\n",
    "    'method': 'grid',\n",
    "    'name' : 'sweep cross entropy',\n",
    "    'metric': {\n",
    "      'name': 'val_accuracy',\n",
    "      'goal': 'maximize'\n",
    "    },\n",
    "    'parameters': {\n",
    "        'epochs': {\n",
    "            'values': [5,10]\n",
    "        },\n",
    "         'hidden_size':{\n",
    "            'values':[32,64,128]\n",
    "        },\n",
    "        'activation': {\n",
    "            'values': ['sigmoid','relu']\n",
    "        },\n",
    "        'loss': {\n",
    "            'values': ['cross_entropy']\n",
    "        },\n",
    "\n",
    "\n",
    "    }\n",
    "}\n",
    "\n",
    "sweep_id = wandb.sweep(sweep=sweep_config, project='DL_01)')"
   ]
  },
  {
   "cell_type": "code",
   "execution_count": 1,
   "id": "ccf1248e",
   "metadata": {},
   "outputs": [
    {
     "name": "stdout",
     "output_type": "stream",
     "text": [
      "WARNING:tensorflow:From C:\\Users\\samruddhi\\anaconda3\\Lib\\site-packages\\keras\\src\\losses.py:2976: The name tf.losses.sparse_softmax_cross_entropy is deprecated. Please use tf.compat.v1.losses.sparse_softmax_cross_entropy instead.\n",
      "\n"
     ]
    }
   ],
   "source": [
    "import tensorflow as tf"
   ]
  },
  {
   "cell_type": "code",
   "execution_count": 28,
   "id": "7b6f1379",
   "metadata": {},
   "outputs": [],
   "source": [
    "from numpy import exp"
   ]
  },
  {
   "cell_type": "code",
   "execution_count": 5,
   "id": "93463597",
   "metadata": {},
   "outputs": [],
   "source": [
    "from tensorflow import keras"
   ]
  },
  {
   "cell_type": "code",
   "execution_count": 6,
   "id": "56495c6e",
   "metadata": {},
   "outputs": [],
   "source": [
    "import matplotlib.pyplot as plt\n",
    "import numpy as np"
   ]
  },
  {
   "cell_type": "code",
   "execution_count": 7,
   "id": "4c2337e9",
   "metadata": {},
   "outputs": [],
   "source": [
    "fashion_mnist = keras.datasets.fashion_mnist"
   ]
  },
  {
   "cell_type": "code",
   "execution_count": 8,
   "id": "8b5fe4ef",
   "metadata": {},
   "outputs": [],
   "source": [
    "(x_train, y_train), (x_test, y_test) = fashion_mnist.load_data()\n",
    "class_names=['T-shirt/top', 'Trouser', 'Pullover', 'Dress', 'Coat', 'Sandal', 'Shirt', 'Sneaker', 'Bag', 'Ankle boot']"
   ]
  },
  {
   "cell_type": "code",
   "execution_count": 9,
   "id": "66b12d96",
   "metadata": {},
   "outputs": [
    {
     "data": {
      "image/png": "[encoded data removed]",
      "text/plain": [
       "<Figure size 600x600 with 10 Axes>"
      ]
     },
     "metadata": {},
     "output_type": "display_data"
    }
   ],
   "source": [
    "plt.figure(figsize=(6,6))\n",
    "for i in range(10):\n",
    "    plt.subplot(5,5,i+1)\n",
    "    plt.xticks([])\n",
    "    plt.yticks([])\n",
    "    plt.grid(False)\n",
    "    plt.imshow(x_train[i], cmap=plt.cm.binary)\n",
    "    plt.xlabel(class_names[y_train[i]])\n",
    "plt.show()"
   ]
  },
  {
   "cell_type": "code",
   "execution_count": 10,
   "id": "67354cb0",
   "metadata": {},
   "outputs": [],
   "source": [
    "#normalizing data\n",
    "x_train = x_train/255\n",
    "x_test = x_test/255"
   ]
  },
  {
   "cell_type": "code",
   "execution_count": 11,
   "id": "dd10cf99",
   "metadata": {},
   "outputs": [
    {
     "name": "stdout",
     "output_type": "stream",
     "text": [
      "WARNING:tensorflow:From C:\\Users\\samruddhi\\anaconda3\\Lib\\site-packages\\keras\\src\\backend.py:873: The name tf.get_default_graph is deprecated. Please use tf.compat.v1.get_default_graph instead.\n",
      "\n"
     ]
    }
   ],
   "source": [
    "model = tf.keras.Sequential([\n",
    "    # Convert the 28x28 image into a flat vector of 28x28 = 784 values\n",
    "    tf.keras.layers.Flatten(input_shape=(28, 28), name='flatten_input'),  \n",
    "    # Create a \"hidden\" layer with 256 neurons and apply the ReLU non-linearity\n",
    "    tf.keras.layers.Dense(256, activation=tf.nn.relu, name='input_to_hidden1'),  \n",
    "    # Create another hidden layer with 128 neurons\n",
    "    tf.keras.layers.Dense(128, activation=tf.nn.relu, name='hidden1_to_hidden2'),\n",
    "    # Create an \"output layer\" with 10 neurons\n",
    "    tf.keras.layers.Dense(10, name='hidden_to_logits'),  \n",
    "])"
   ]
  },
  {
   "cell_type": "code",
   "execution_count": 12,
   "id": "3a6ee230",
   "metadata": {},
   "outputs": [
    {
     "name": "stdout",
     "output_type": "stream",
     "text": [
      "Model: \"sequential\"\n",
      "_________________________________________________________________\n",
      " Layer (type)                Output Shape              Param #   \n",
      "=================================================================\n",
      " flatten_input (Flatten)     (None, 784)               0         \n",
      "                                                                 \n",
      " input_to_hidden1 (Dense)    (None, 256)               200960    \n",
      "                                                                 \n",
      " hidden1_to_hidden2 (Dense)  (None, 128)               32896     \n",
      "                                                                 \n",
      " hidden_to_logits (Dense)    (None, 10)                1290      \n",
      "                                                                 \n",
      "=================================================================\n",
      "Total params: 235146 (918.54 KB)\n",
      "Trainable params: 235146 (918.54 KB)\n",
      "Non-trainable params: 0 (0.00 Byte)\n",
      "_________________________________________________________________\n"
     ]
    }
   ],
   "source": [
    "model.summary() "
   ]
  },
  {
   "cell_type": "code",
   "execution_count": 13,
   "id": "88fb2b52",
   "metadata": {},
   "outputs": [],
   "source": [
    "Hidden_layer_dimensions = [256,128,64]"
   ]
  },
  {
   "cell_type": "code",
   "execution_count": 14,
   "id": "a76fe0a4",
   "metadata": {},
   "outputs": [],
   "source": [
    "(train_x_orig,train_y),(test_x_orig,test_y)= fashion_mnist.load_data()\n",
    "m_train = train_x_orig.shape[0]\n",
    "num_px = train_x_orig.shape[1]\n",
    "m_test = test_x_orig.shape[0]\n",
    "train_y = train_y.reshape(1, len(train_y))\n",
    "test_y = test_y.reshape(1, len(test_y))\n",
    "train_x_flatten = train_x_orig.reshape(train_x_orig.shape[0], -1).T   \n",
    "test_x_flatten = test_x_orig.reshape(test_x_orig.shape[0], -1).T\n",
    "no_of_class=len(np.unique(train_y))\n",
    "\n",
    "train_x = train_x_flatten/255\n",
    "test_x = test_x_flatten/255\n",
    "#layers_dims = [len(train_x),256,128,no_of_class]\n",
    "onehot_encoded = list()\n"
   ]
  },
  {
   "cell_type": "code",
   "execution_count": 15,
   "id": "a41a6db5",
   "metadata": {},
   "outputs": [],
   "source": [
    "for i in range(train_y.shape[1]):\n",
    "    c=train_y[:,i][0]\n",
    "    letter = [0 for _ in range(no_of_class)]\n",
    "    letter[c] = 1\n",
    "    onehot_encoded.append(letter)"
   ]
  },
  {
   "cell_type": "code",
   "execution_count": 17,
   "id": "6a54dc8a",
   "metadata": {},
   "outputs": [],
   "source": [
    "Y=np.array(onehot_encoded)\n",
    "num_features = train_x.shape[0]\n",
    "layers_dims = [num_features] + Hidden_layer_dimensions +[no_of_class]\n",
    "#layers_dims = [num_features,256,128,no_of_class]\n"
   ]
  },
  {
   "cell_type": "code",
   "execution_count": 18,
   "id": "a977c4ca",
   "metadata": {},
   "outputs": [],
   "source": [
    "# Function: initialize_parameters_ \n",
    "# used for initialising the parameters of feed forward network\n",
    "# Returns parameters\n",
    "def initialize_parameters_(layer_dims):\n",
    "   \n",
    "    np.random.seed(3)\n",
    "    parameters = {}\n",
    "    L = len(layer_dims)            # number of layers in the network\n",
    "\n",
    "    for l in range(1, L):\n",
    "        parameters['W' + str(l)] = np.random.randn(layer_dims[l], layer_dims[l-1]) * 0.01\n",
    "        parameters['b' + str(l)] =  np.zeros((layer_dims[l], 1))\n",
    "       \n",
    "        assert(parameters['W' + str(l)].shape == (layer_dims[l], layer_dims[l-1]))\n",
    "        assert(parameters['b' + str(l)].shape == (layer_dims[l], 1))\n",
    "\n",
    "       \n",
    "    return parameters\n"
   ]
  },
  {
   "cell_type": "code",
   "execution_count": 19,
   "id": "8ae171c9",
   "metadata": {},
   "outputs": [],
   "source": [
    "# Function: feed_forward\n",
    "# performs the feed forward    \n",
    "#returns post activation(Z), pre activation (cache) values \n",
    "def feed_forward(A, W, b):\n",
    "   \n",
    "    Z = np.dot(W, A) + b\n",
    "    cache = (A, W, b)\n",
    "    return Z, cache\n"
   ]
  },
  {
   "cell_type": "code",
   "execution_count": 20,
   "id": "548f8f66",
   "metadata": {},
   "outputs": [],
   "source": [
    "#function: sigmoid\n",
    "#performs the sigmoid activation function\n",
    "\n",
    "def sigmoid(Z):\n",
    "   \n",
    "    A = 1/(1+np.exp(-Z))\n",
    "    cache = Z\n",
    "    return A, cache"
   ]
  },
  {
   "cell_type": "code",
   "execution_count": 21,
   "id": "85a80ce7",
   "metadata": {},
   "outputs": [],
   "source": [
    "#performs the ReLu activation function\n",
    "def relu(Z):    \n",
    "    A = np.maximum(0,Z)\n",
    "    cache = Z \n",
    "    return A, cache\n",
    "\n",
    "def softmax(Z):\n",
    "   \n",
    "    A = exp(Z)/exp(Z).sum()\n",
    "    cache = Z\n",
    "    return A, cache"
   ]
  },
  {
   "cell_type": "code",
   "execution_count": 22,
   "id": "a40c812f",
   "metadata": {},
   "outputs": [],
   "source": [
    "#function: activation_forward\n",
    "#calls the feed forward and sigmoid or Relu activation functions\n",
    "#called from \n",
    "def activation_forward(A_prev, W, b, activation):\n",
    "    if activation == \"sigmoid\":\n",
    "\n",
    "        Z, linear_cache  = feed_forward(A_prev, W, b)\n",
    "        A, activation_cache = sigmoid(Z)\n",
    "   \n",
    "    elif activation == \"relu\":\n",
    "        Z, linear_cache = feed_forward(A_prev, W, b)\n",
    "        A, activation_cache = relu(Z)\n",
    "\n",
    "    cache = (linear_cache, activation_cache)\n",
    "    return A, cache"
   ]
  },
  {
   "cell_type": "code",
   "execution_count": 25,
   "id": "9c42932f",
   "metadata": {},
   "outputs": [],
   "source": [
    "#Function : L_model_forward\n",
    "# Will perform forward propagation \n",
    "\n",
    "def L_model_forward(X, parameters):\n",
    "   \n",
    "    caches = []\n",
    "    A = X\n",
    "    L = len(parameters) // 2 \n",
    "   \n",
    "    for l in range(1, L):\n",
    "        A_prev = A\n",
    "        A, cache = activation_forward(A_prev, parameters['W' + str(l)], parameters['b' + str(l)], activation = \"sigmoid\")\n",
    "        caches.append(cache)\n",
    "          \n",
    "    AL, cache = activation_forward(A, parameters['W' + str(L)], parameters['b' + str(L)], activation = \"sigmoid\")\n",
    "    caches.append(cache)\n",
    "    AP=[]\n",
    "    for i in range(AL.shape[1]):\n",
    "         AA,cache = softmax(AL[:,i])\n",
    "         AP.append(AA) \n",
    "\n",
    "    return AL, caches,AP"
   ]
  },
  {
   "cell_type": "code",
   "execution_count": 29,
   "id": "61772e48",
   "metadata": {},
   "outputs": [
    {
     "name": "stdout",
     "output_type": "stream",
     "text": [
      "[0.10165276 0.10039974 0.0996732  0.10058668 0.09975049 0.10017424\n",
      " 0.09852119 0.09991997 0.09952637 0.09979535]\n"
     ]
    }
   ],
   "source": [
    "#Function : L_layer_model\n",
    "#Will intialize parameters by calling initialize_parameters_\n",
    "#Calls L_model_forward to perform feed forward\n",
    "\n",
    "def L_layer_model(X, Y, layers_dims):\n",
    "   \n",
    "    parameters = initialize_parameters_(layers_dims)\n",
    "    AL, caches,AA = L_model_forward(X, parameters)\n",
    "    return parameters,caches,AL,AA\n",
    "\n",
    "parameters,caches,AL,output_probability = L_layer_model(test_x, test_y, layers_dims)\n",
    "print(output_probability[0])\n"
   ]
  }
 ],
 "metadata": {
  "kernelspec": {
   "display_name": "Python 3 (ipykernel)",
   "language": "python",
   "name": "python3"
  },
  "language_info": {
   "codemirror_mode": {
    "name": "ipython",
    "version": 3
   },
   "file_extension": ".py",
   "mimetype": "text/x-python",
   "name": "python",
   "nbconvert_exporter": "python",
   "pygments_lexer": "ipython3",
   "version": "3.11.5"
  }
 },
 "nbformat": 4,
 "nbformat_minor": 5
}
